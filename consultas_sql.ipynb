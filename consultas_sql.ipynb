{
 "cells": [
  {
   "cell_type": "code",
   "execution_count": 1,
   "id": "b069d0c9-c160-4fcd-b5b9-d6e02535575c",
   "metadata": {
    "tags": []
   },
   "outputs": [],
   "source": [
    "import requests "
   ]
  },
  {
   "cell_type": "code",
   "execution_count": 2,
   "id": "c31238c8-d84c-4037-bdd7-1d129061bea3",
   "metadata": {
    "tags": []
   },
   "outputs": [],
   "source": [
    "url=\"https://download.inep.gov.br/microdados/microdados_censo_da_educacao_superior_2021.zip\""
   ]
  },
  {
   "cell_type": "code",
   "execution_count": 3,
   "id": "d43954f9-ef56-4050-9f1e-001c14af5cd1",
   "metadata": {
    "tags": []
   },
   "outputs": [
    {
     "name": "stderr",
     "output_type": "stream",
     "text": [
      "/opt/conda/lib/python3.10/site-packages/urllib3/connectionpool.py:1045: InsecureRequestWarning: Unverified HTTPS request is being made to host 'download.inep.gov.br'. Adding certificate verification is strongly advised. See: https://urllib3.readthedocs.io/en/1.26.x/advanced-usage.html#ssl-warnings\n",
      "  warnings.warn(\n"
     ]
    }
   ],
   "source": [
    "r=requests.get(url, verify=False)"
   ]
  },
  {
   "cell_type": "code",
   "execution_count": 4,
   "id": "fb94be68-a5df-4894-8f95-ab9bfeaaa717",
   "metadata": {
    "tags": []
   },
   "outputs": [],
   "source": [
    "with open(\"r.zip\",\"wb\") as f:\n",
    "    f.write(r.content)"
   ]
  },
  {
   "cell_type": "code",
   "execution_count": 5,
   "id": "51cc2830-dde8-4994-9114-18980d97af68",
   "metadata": {
    "tags": []
   },
   "outputs": [],
   "source": [
    "import zipfile "
   ]
  },
  {
   "cell_type": "code",
   "execution_count": 6,
   "id": "e65fed25-505d-4488-8739-833bd5da4c47",
   "metadata": {
    "tags": []
   },
   "outputs": [],
   "source": [
    "with zipfile.ZipFile(\"r.zip\",\"r\") as zip_ref:\n",
    "    zip_ref.extractall(\"./data\")"
   ]
  },
  {
   "cell_type": "code",
   "execution_count": 7,
   "id": "36275c03-2a31-4afa-9473-b5e0223ff661",
   "metadata": {
    "tags": []
   },
   "outputs": [],
   "source": [
    "from pyspark.sql import SparkSession\n",
    "from pyspark.sql.functions import when, col, lower"
   ]
  },
  {
   "cell_type": "code",
   "execution_count": 8,
   "id": "cec6ba77-adc1-4dcc-923d-f89d3ad9b7af",
   "metadata": {
    "tags": []
   },
   "outputs": [],
   "source": [
    "spark = SparkSession \\\n",
    "        .builder \\\n",
    "        .config(\"spark.sql.repl.eagerEval.enabled\", \"True\") \\\n",
    "        .config(\"spark.sql.repl.eagerEval.maxNumRows\", \"10\") \\\n",
    "        .getOrCreate()"
   ]
  },
  {
   "cell_type": "code",
   "execution_count": 9,
   "id": "72625983-9c2b-41d5-8223-a56c41c81d19",
   "metadata": {
    "tags": []
   },
   "outputs": [],
   "source": [
    "df = spark.read.csv(\"data/Microdados do Censo da Educaç╞o Superior 2021/dados/MICRODADOS_CADASTRO_IES_2021.CSV\", sep=';',header=True, inferSchema=True)"
   ]
  },
  {
   "cell_type": "code",
   "execution_count": 10,
   "id": "fe4bce18-6870-44a3-815c-29d4d1d36d57",
   "metadata": {
    "tags": []
   },
   "outputs": [],
   "source": [
    "for col in df.columns:\n",
    "    df = df.withColumnRenamed(col, col.lower())"
   ]
  },
  {
   "cell_type": "code",
   "execution_count": 11,
   "id": "f611ddf8-1042-40b1-b1d1-628d31189cfe",
   "metadata": {
    "tags": []
   },
   "outputs": [
    {
     "data": {
      "text/html": [
       "<table border='1'>\n",
       "<tr><th>nu_ano_censo</th><th>no_regiao_ies</th><th>co_regiao_ies</th><th>no_uf_ies</th><th>sg_uf_ies</th><th>co_uf_ies</th><th>no_municipio_ies</th><th>co_municipio_ies</th><th>in_capital_ies</th><th>no_mesorregiao_ies</th><th>co_mesorregiao_ies</th><th>no_microrregiao_ies</th><th>co_microrregiao_ies</th><th>tp_organizacao_academica</th><th>tp_categoria_administrativa</th><th>no_mantenedora</th><th>co_mantenedora</th><th>co_ies</th><th>no_ies</th><th>sg_ies</th><th>ds_endereco_ies</th><th>ds_numero_endereco_ies</th><th>ds_complemento_endereco_ies</th><th>no_bairro_ies</th><th>nu_cep_ies</th><th>qt_tec_total</th><th>qt_tec_fundamental_incomp_fem</th><th>qt_tec_fundamental_incomp_masc</th><th>qt_tec_fundamental_comp_fem</th><th>qt_tec_fundamental_comp_masc</th><th>qt_tec_medio_fem</th><th>qt_tec_medio_masc</th><th>qt_tec_superior_fem</th><th>qt_tec_superior_masc</th><th>qt_tec_especializacao_fem</th><th>qt_tec_especializacao_masc</th><th>qt_tec_mestrado_fem</th><th>qt_tec_mestrado_masc</th><th>qt_tec_doutorado_fem</th><th>qt_tec_doutorado_masc</th><th>in_acesso_portal_capes</th><th>in_acesso_outras_bases</th><th>in_assina_outra_base</th><th>in_repositorio_institucional</th><th>in_busca_integrada</th><th>in_servico_internet</th><th>in_participa_rede_social</th><th>in_catalogo_online</th><th>qt_periodico_eletronico</th><th>qt_livro_eletronico</th><th>qt_doc_total</th><th>qt_doc_exe</th><th>qt_doc_ex_femi</th><th>qt_doc_ex_masc</th><th>qt_doc_ex_sem_grad</th><th>qt_doc_ex_grad</th><th>qt_doc_ex_esp</th><th>qt_doc_ex_mest</th><th>qt_doc_ex_dout</th><th>qt_doc_ex_int</th><th>qt_doc_ex_int_de</th><th>qt_doc_ex_int_sem_de</th><th>qt_doc_ex_parc</th><th>qt_doc_ex_hor</th><th>qt_doc_ex_0_29</th><th>qt_doc_ex_30_34</th><th>qt_doc_ex_35_39</th><th>qt_doc_ex_40_44</th><th>qt_doc_ex_45_49</th><th>qt_doc_ex_50_54</th><th>qt_doc_ex_55_59</th><th>qt_doc_ex_60_mais</th><th>qt_doc_ex_branca</th><th>qt_doc_ex_preta</th><th>qt_doc_ex_parda</th><th>qt_doc_ex_amarela</th><th>qt_doc_ex_indigena</th><th>qt_doc_ex_cor_nd</th><th>qt_doc_ex_bra</th><th>qt_doc_ex_est</th><th>qt_doc_ex_com_deficiencia</th><th>co_projeto</th><th>co_local_oferta</th><th>no_local_oferta</th></tr>\n",
       "<tr><td>2021</td><td>Centro-Oeste</td><td>5</td><td>Mato Grosso</td><td>MT</td><td>51</td><td>Cuiab�</td><td>5103403</td><td>1</td><td>Centro-Sul Mato-g...</td><td>4</td><td>Cuiab�</td><td>17</td><td>1</td><td>1</td><td>FUNDACAO UNIVERSI...</td><td>1</td><td>1</td><td>UNIVERSIDADE FEDE...</td><td>UFMT</td><td>Avenida Fernando ...</td><td>2367</td><td>Cidade Universit�ria</td><td>Boa Esperan�a</td><td>78060900</td><td>1344</td><td>4</td><td>15</td><td>5</td><td>14</td><td>49</td><td>93</td><td>112</td><td>136</td><td>306</td><td>295</td><td>158</td><td>96</td><td>34</td><td>27</td><td>1</td><td>0</td><td>1</td><td>1</td><td>1</td><td>1</td><td>1</td><td>1</td><td>0</td><td>0</td><td>1718</td><td>1628</td><td>801</td><td>827</td><td>0</td><td>50</td><td>76</td><td>263</td><td>1239</td><td>1571</td><td>1275</td><td>296</td><td>57</td><td>0</td><td>58</td><td>214</td><td>310</td><td>335</td><td>242</td><td>160</td><td>137</td><td>172</td><td>1000</td><td>72</td><td>390</td><td>48</td><td>5</td><td>113</td><td>1593</td><td>35</td><td>6</td><td>2111801</td><td>105340</td><td>Campus Universit�...</td></tr>\n",
       "<tr><td>2021</td><td>Centro-Oeste</td><td>5</td><td>Distrito Federal</td><td>DF</td><td>53</td><td>Bras�lia</td><td>5300108</td><td>1</td><td>Distrito Federal</td><td>1</td><td>Bras�lia</td><td>1</td><td>1</td><td>1</td><td>FUNDACAO UNIVERSI...</td><td>2</td><td>2</td><td>UNIVERSIDADE DE B...</td><td>UNB</td><td>Campus Universit�...</td><td>s/n</td><td>-</td><td>Asa Norte</td><td>70910900</td><td>3081</td><td>0</td><td>0</td><td>6</td><td>30</td><td>64</td><td>132</td><td>349</td><td>263</td><td>785</td><td>702</td><td>263</td><td>349</td><td>81</td><td>57</td><td>1</td><td>0</td><td>1</td><td>1</td><td>0</td><td>1</td><td>1</td><td>1</td><td>12438</td><td>493150</td><td>2942</td><td>2639</td><td>1174</td><td>1465</td><td>0</td><td>2</td><td>21</td><td>237</td><td>2379</td><td>2475</td><td>2255</td><td>220</td><td>164</td><td>0</td><td>38</td><td>160</td><td>323</td><td>474</td><td>431</td><td>359</td><td>375</td><td>479</td><td>1670</td><td>82</td><td>416</td><td>57</td><td>8</td><td>406</td><td>2496</td><td>143</td><td>10</td><td>2111801</td><td>4229</td><td>Campus Universit�...</td></tr>\n",
       "<tr><td>2021</td><td>Nordeste</td><td>2</td><td>Sergipe</td><td>SE</td><td>28</td><td>S�o Crist�v�o</td><td>2806701</td><td>0</td><td>Leste Sergipano</td><td>3</td><td>Aracaju</td><td>11</td><td>1</td><td>1</td><td>FUNDACAO UNIVERSI...</td><td>3</td><td>3</td><td>UNIVERSIDADE FEDE...</td><td>UFS</td><td>Avenida Marechal ...</td><td>s/n</td><td>-</td><td>Jardim Rosa Elze</td><td>49100000</td><td>956</td><td>0</td><td>0</td><td>1</td><td>0</td><td>146</td><td>109</td><td>171</td><td>151</td><td>137</td><td>89</td><td>83</td><td>51</td><td>13</td><td>5</td><td>1</td><td>0</td><td>1</td><td>1</td><td>1</td><td>1</td><td>1</td><td>1</td><td>40534</td><td>316939</td><td>1833</td><td>1777</td><td>851</td><td>926</td><td>0</td><td>113</td><td>0</td><td>272</td><td>1392</td><td>1569</td><td>1404</td><td>165</td><td>208</td><td>0</td><td>57</td><td>163</td><td>317</td><td>354</td><td>289</td><td>233</td><td>191</td><td>173</td><td>172</td><td>35</td><td>269</td><td>9</td><td>2</td><td>1290</td><td>1747</td><td>30</td><td>4</td><td>2111801</td><td>1006435</td><td>Unidade SEDE</td></tr>\n",
       "<tr><td>2021</td><td>Norte</td><td>1</td><td>Amazonas</td><td>AM</td><td>13</td><td>Manaus</td><td>1302603</td><td>1</td><td>Centro Amazonense</td><td>3</td><td>Manaus</td><td>7</td><td>1</td><td>1</td><td>FUNDACAO UNIVERSI...</td><td>4</td><td>4</td><td>UNIVERSIDADE FEDE...</td><td>UFAM</td><td>Av. Rodrigo Ot�vio</td><td>6200</td><td>Campus Universit�rio</td><td>Coroado II</td><td>69077000</td><td>1862</td><td>6</td><td>6</td><td>3</td><td>13</td><td>120</td><td>152</td><td>317</td><td>282</td><td>409</td><td>263</td><td>140</td><td>101</td><td>27</td><td>23</td><td>1</td><td>0</td><td>1</td><td>1</td><td>1</td><td>1</td><td>1</td><td>1</td><td>40191</td><td>3683</td><td>1981</td><td>1824</td><td>822</td><td>1002</td><td>0</td><td>111</td><td>141</td><td>436</td><td>1136</td><td>1730</td><td>1349</td><td>381</td><td>94</td><td>0</td><td>93</td><td>200</td><td>307</td><td>317</td><td>255</td><td>228</td><td>221</td><td>203</td><td>113</td><td>16</td><td>125</td><td>6</td><td>4</td><td>1560</td><td>1821</td><td>3</td><td>2</td><td>2111801</td><td>1036292</td><td>Unidade Sede</td></tr>\n",
       "<tr><td>2021</td><td>Nordeste</td><td>2</td><td>Piau�</td><td>PI</td><td>22</td><td>Teresina</td><td>2211001</td><td>1</td><td>Centro-Norte Piau...</td><td>2</td><td>Teresina</td><td>3</td><td>1</td><td>1</td><td>FUNDACAO UNIVERSI...</td><td>14054</td><td>5</td><td>UNIVERSIDADE FEDE...</td><td>UFPI</td><td>Campus Universit�...</td><td>s/n</td><td>SG - 07</td><td>Ininga</td><td>64049550</td><td>1041</td><td>3</td><td>18</td><td>2</td><td>20</td><td>26</td><td>77</td><td>90</td><td>111</td><td>229</td><td>206</td><td>120</td><td>83</td><td>26</td><td>30</td><td>1</td><td>0</td><td>0</td><td>1</td><td>0</td><td>1</td><td>1</td><td>1</td><td>0</td><td>0</td><td>1577</td><td>1470</td><td>709</td><td>761</td><td>0</td><td>0</td><td>76</td><td>286</td><td>1108</td><td>1372</td><td>1182</td><td>190</td><td>98</td><td>0</td><td>27</td><td>156</td><td>280</td><td>286</td><td>197</td><td>149</td><td>149</td><td>226</td><td>110</td><td>42</td><td>204</td><td>0</td><td>2</td><td>1112</td><td>1470</td><td>0</td><td>0</td><td>2111801</td><td>102559</td><td>CAMPUS MINISTRO P...</td></tr>\n",
       "<tr><td>2021</td><td>Sudeste</td><td>3</td><td>Minas Gerais</td><td>MG</td><td>31</td><td>Ouro Preto</td><td>3146107</td><td>0</td><td>Metropolitana de ...</td><td>7</td><td>Ouro Preto</td><td>33</td><td>1</td><td>1</td><td>UNIVERSIDADE FEDE...</td><td>6</td><td>6</td><td>UNIVERSIDADE FEDE...</td><td>UFOP</td><td>Rua Diogo de Vasc...</td><td>122</td><td>-</td><td>Centro</td><td>35400000</td><td>715</td><td>4</td><td>23</td><td>3</td><td>14</td><td>23</td><td>56</td><td>42</td><td>84</td><td>93</td><td>121</td><td>115</td><td>88</td><td>29</td><td>20</td><td>1</td><td>0</td><td>1</td><td>1</td><td>0</td><td>0</td><td>0</td><td>1</td><td>0</td><td>28762</td><td>928</td><td>846</td><td>332</td><td>514</td><td>0</td><td>2</td><td>16</td><td>82</td><td>746</td><td>839</td><td>790</td><td>49</td><td>7</td><td>0</td><td>3</td><td>67</td><td>194</td><td>199</td><td>117</td><td>97</td><td>93</td><td>76</td><td>402</td><td>25</td><td>146</td><td>4</td><td>1</td><td>268</td><td>844</td><td>2</td><td>3</td><td>2111801</td><td>664</td><td>Reitoria</td></tr>\n",
       "<tr><td>2021</td><td>Sudeste</td><td>3</td><td>S�o Paulo</td><td>SP</td><td>35</td><td>S�o Carlos</td><td>3548906</td><td>0</td><td>Araraquara</td><td>5</td><td>S�o Carlos</td><td>25</td><td>1</td><td>1</td><td>FUNDACAO UNIVERSI...</td><td>1302</td><td>7</td><td>UNIVERSIDADE FEDE...</td><td>UFSCAR</td><td>Via Washington  Luis</td><td>Km 235</td><td>S/N�</td><td>Monjolinho</td><td>13565905</td><td>968</td><td>17</td><td>22</td><td>9</td><td>12</td><td>9</td><td>48</td><td>79</td><td>106</td><td>164</td><td>152</td><td>139</td><td>103</td><td>61</td><td>47</td><td>1</td><td>0</td><td>0</td><td>1</td><td>0</td><td>1</td><td>1</td><td>1</td><td>23596</td><td>20419</td><td>1339</td><td>1339</td><td>602</td><td>737</td><td>0</td><td>1</td><td>3</td><td>50</td><td>1285</td><td>1284</td><td>1258</td><td>26</td><td>55</td><td>0</td><td>3</td><td>60</td><td>199</td><td>282</td><td>212</td><td>197</td><td>172</td><td>214</td><td>767</td><td>13</td><td>69</td><td>27</td><td>2</td><td>461</td><td>1310</td><td>29</td><td>8</td><td>2111801</td><td>1006610</td><td>Unidade SEDE</td></tr>\n",
       "<tr><td>2021</td><td>Sudeste</td><td>3</td><td>Minas Gerais</td><td>MG</td><td>31</td><td>Vi�osa</td><td>3171303</td><td>0</td><td>Zona da Mata</td><td>12</td><td>Vi�osa</td><td>62</td><td>1</td><td>1</td><td>UNIVERSIDADE FEDE...</td><td>15588</td><td>8</td><td>UNIVERSIDADE FEDE...</td><td>UFV</td><td>Av. P.H. Rolfs</td><td>s/n</td><td>Campus Universit�rio</td><td>Campus Universit�rio</td><td>36570000</td><td>2001</td><td>7</td><td>111</td><td>1</td><td>29</td><td>23</td><td>307</td><td>73</td><td>160</td><td>319</td><td>492</td><td>185</td><td>178</td><td>69</td><td>47</td><td>1</td><td>0</td><td>1</td><td>1</td><td>0</td><td>1</td><td>0</td><td>1</td><td>0</td><td>79733</td><td>1292</td><td>1292</td><td>518</td><td>774</td><td>0</td><td>17</td><td>24</td><td>128</td><td>1123</td><td>1251</td><td>1159</td><td>92</td><td>41</td><td>0</td><td>32</td><td>130</td><td>238</td><td>285</td><td>154</td><td>122</td><td>176</td><td>155</td><td>398</td><td>24</td><td>96</td><td>4</td><td>0</td><td>770</td><td>1267</td><td>25</td><td>0</td><td>2111801</td><td>1005394</td><td>Universidade Fede...</td></tr>\n",
       "<tr><td>2021</td><td>Sul</td><td>4</td><td>Paran�</td><td>PR</td><td>41</td><td>Londrina</td><td>4113700</td><td>0</td><td>Norte Central Par...</td><td>3</td><td>Londrina</td><td>11</td><td>1</td><td>2</td><td>SECRET DE EST CIE...</td><td>37</td><td>9</td><td>UNIVERSIDADE ESTA...</td><td>UEL</td><td>Rodovia Celso Gar...</td><td>-</td><td>UEL - CAMPUS UNIV...</td><td>Campus Universit�rio</td><td>86057970</td><td>756</td><td>0</td><td>5</td><td>1</td><td>5</td><td>57</td><td>68</td><td>149</td><td>169</td><td>124</td><td>86</td><td>29</td><td>39</td><td>8</td><td>16</td><td>1</td><td>0</td><td>1</td><td>1</td><td>0</td><td>1</td><td>1</td><td>1</td><td>0</td><td>2568</td><td>1820</td><td>1792</td><td>932</td><td>860</td><td>0</td><td>17</td><td>65</td><td>359</td><td>1351</td><td>1325</td><td>970</td><td>355</td><td>462</td><td>5</td><td>48</td><td>185</td><td>266</td><td>272</td><td>244</td><td>267</td><td>262</td><td>248</td><td>1458</td><td>24</td><td>132</td><td>87</td><td>2</td><td>89</td><td>1775</td><td>17</td><td>55</td><td>2111801</td><td>657675</td><td>UEL - CAMPUS UNIV...</td></tr>\n",
       "<tr><td>2021</td><td>Sul</td><td>4</td><td>Paran�</td><td>PR</td><td>41</td><td>Curitiba</td><td>4106902</td><td>1</td><td>Metropolitana de ...</td><td>10</td><td>Curitiba</td><td>37</td><td>1</td><td>5</td><td>ASSOCIACAO PARANA...</td><td>10</td><td>10</td><td>PONTIF�CIA UNIVER...</td><td>PUCPR</td><td>Rua Imaculada Con...</td><td>1155</td><td>-</td><td>Prado Velho</td><td>80215901</td><td>1548</td><td>0</td><td>0</td><td>45</td><td>41</td><td>276</td><td>204</td><td>410</td><td>194</td><td>157</td><td>99</td><td>30</td><td>28</td><td>30</td><td>34</td><td>1</td><td>0</td><td>1</td><td>1</td><td>0</td><td>1</td><td>1</td><td>1</td><td>55040</td><td>25036</td><td>1349</td><td>1349</td><td>575</td><td>774</td><td>0</td><td>1</td><td>59</td><td>582</td><td>707</td><td>448</td><td>0</td><td>448</td><td>655</td><td>246</td><td>31</td><td>120</td><td>191</td><td>229</td><td>229</td><td>212</td><td>151</td><td>186</td><td>680</td><td>15</td><td>40</td><td>28</td><td>1</td><td>585</td><td>1343</td><td>6</td><td>11</td><td>2111801</td><td>657676</td><td>PUCPR - Campus Cu...</td></tr>\n",
       "</table>\n",
       "only showing top 10 rows\n"
      ],
      "text/plain": [
       "+------------+-------------+-------------+----------------+---------+---------+----------------+----------------+--------------+--------------------+------------------+-------------------+-------------------+------------------------+---------------------------+--------------------+--------------+------+--------------------+------+--------------------+----------------------+---------------------------+--------------------+----------+------------+-----------------------------+------------------------------+---------------------------+----------------------------+----------------+-----------------+-------------------+--------------------+-------------------------+--------------------------+-------------------+--------------------+--------------------+---------------------+----------------------+----------------------+--------------------+----------------------------+------------------+-------------------+------------------------+------------------+-----------------------+-------------------+------------+----------+--------------+--------------+------------------+--------------+-------------+--------------+--------------+-------------+----------------+--------------------+--------------+-------------+--------------+---------------+---------------+---------------+---------------+---------------+---------------+-----------------+----------------+---------------+---------------+-----------------+------------------+----------------+-------------+-------------+-------------------------+----------+---------------+--------------------+\n",
       "|nu_ano_censo|no_regiao_ies|co_regiao_ies|       no_uf_ies|sg_uf_ies|co_uf_ies|no_municipio_ies|co_municipio_ies|in_capital_ies|  no_mesorregiao_ies|co_mesorregiao_ies|no_microrregiao_ies|co_microrregiao_ies|tp_organizacao_academica|tp_categoria_administrativa|      no_mantenedora|co_mantenedora|co_ies|              no_ies|sg_ies|     ds_endereco_ies|ds_numero_endereco_ies|ds_complemento_endereco_ies|       no_bairro_ies|nu_cep_ies|qt_tec_total|qt_tec_fundamental_incomp_fem|qt_tec_fundamental_incomp_masc|qt_tec_fundamental_comp_fem|qt_tec_fundamental_comp_masc|qt_tec_medio_fem|qt_tec_medio_masc|qt_tec_superior_fem|qt_tec_superior_masc|qt_tec_especializacao_fem|qt_tec_especializacao_masc|qt_tec_mestrado_fem|qt_tec_mestrado_masc|qt_tec_doutorado_fem|qt_tec_doutorado_masc|in_acesso_portal_capes|in_acesso_outras_bases|in_assina_outra_base|in_repositorio_institucional|in_busca_integrada|in_servico_internet|in_participa_rede_social|in_catalogo_online|qt_periodico_eletronico|qt_livro_eletronico|qt_doc_total|qt_doc_exe|qt_doc_ex_femi|qt_doc_ex_masc|qt_doc_ex_sem_grad|qt_doc_ex_grad|qt_doc_ex_esp|qt_doc_ex_mest|qt_doc_ex_dout|qt_doc_ex_int|qt_doc_ex_int_de|qt_doc_ex_int_sem_de|qt_doc_ex_parc|qt_doc_ex_hor|qt_doc_ex_0_29|qt_doc_ex_30_34|qt_doc_ex_35_39|qt_doc_ex_40_44|qt_doc_ex_45_49|qt_doc_ex_50_54|qt_doc_ex_55_59|qt_doc_ex_60_mais|qt_doc_ex_branca|qt_doc_ex_preta|qt_doc_ex_parda|qt_doc_ex_amarela|qt_doc_ex_indigena|qt_doc_ex_cor_nd|qt_doc_ex_bra|qt_doc_ex_est|qt_doc_ex_com_deficiencia|co_projeto|co_local_oferta|     no_local_oferta|\n",
       "+------------+-------------+-------------+----------------+---------+---------+----------------+----------------+--------------+--------------------+------------------+-------------------+-------------------+------------------------+---------------------------+--------------------+--------------+------+--------------------+------+--------------------+----------------------+---------------------------+--------------------+----------+------------+-----------------------------+------------------------------+---------------------------+----------------------------+----------------+-----------------+-------------------+--------------------+-------------------------+--------------------------+-------------------+--------------------+--------------------+---------------------+----------------------+----------------------+--------------------+----------------------------+------------------+-------------------+------------------------+------------------+-----------------------+-------------------+------------+----------+--------------+--------------+------------------+--------------+-------------+--------------+--------------+-------------+----------------+--------------------+--------------+-------------+--------------+---------------+---------------+---------------+---------------+---------------+---------------+-----------------+----------------+---------------+---------------+-----------------+------------------+----------------+-------------+-------------+-------------------------+----------+---------------+--------------------+\n",
       "|        2021| Centro-Oeste|            5|     Mato Grosso|       MT|       51|          Cuiab�|         5103403|             1|Centro-Sul Mato-g...|                 4|             Cuiab�|                 17|                       1|                          1|FUNDACAO UNIVERSI...|             1|     1|UNIVERSIDADE FEDE...|  UFMT|Avenida Fernando ...|                  2367|       Cidade Universit�ria|       Boa Esperan�a|  78060900|        1344|                            4|                            15|                          5|                          14|              49|               93|                112|                 136|                      306|                       295|                158|                  96|                  34|                   27|                     1|                     0|                   1|                           1|                 1|                  1|                       1|                 1|                      0|                  0|        1718|      1628|           801|           827|                 0|            50|           76|           263|          1239|         1571|            1275|                 296|            57|            0|            58|            214|            310|            335|            242|            160|            137|              172|            1000|             72|            390|               48|                 5|             113|         1593|           35|                        6|   2111801|         105340|Campus Universit�...|\n",
       "|        2021| Centro-Oeste|            5|Distrito Federal|       DF|       53|        Bras�lia|         5300108|             1|    Distrito Federal|                 1|           Bras�lia|                  1|                       1|                          1|FUNDACAO UNIVERSI...|             2|     2|UNIVERSIDADE DE B...|   UNB|Campus Universit�...|                   s/n|                          -|           Asa Norte|  70910900|        3081|                            0|                             0|                          6|                          30|              64|              132|                349|                 263|                      785|                       702|                263|                 349|                  81|                   57|                     1|                     0|                   1|                           1|                 0|                  1|                       1|                 1|                  12438|             493150|        2942|      2639|          1174|          1465|                 0|             2|           21|           237|          2379|         2475|            2255|                 220|           164|            0|            38|            160|            323|            474|            431|            359|            375|              479|            1670|             82|            416|               57|                 8|             406|         2496|          143|                       10|   2111801|           4229|Campus Universit�...|\n",
       "|        2021|     Nordeste|            2|         Sergipe|       SE|       28|   S�o Crist�v�o|         2806701|             0|     Leste Sergipano|                 3|            Aracaju|                 11|                       1|                          1|FUNDACAO UNIVERSI...|             3|     3|UNIVERSIDADE FEDE...|   UFS|Avenida Marechal ...|                   s/n|                          -|    Jardim Rosa Elze|  49100000|         956|                            0|                             0|                          1|                           0|             146|              109|                171|                 151|                      137|                        89|                 83|                  51|                  13|                    5|                     1|                     0|                   1|                           1|                 1|                  1|                       1|                 1|                  40534|             316939|        1833|      1777|           851|           926|                 0|           113|            0|           272|          1392|         1569|            1404|                 165|           208|            0|            57|            163|            317|            354|            289|            233|            191|              173|             172|             35|            269|                9|                 2|            1290|         1747|           30|                        4|   2111801|        1006435|        Unidade SEDE|\n",
       "|        2021|        Norte|            1|        Amazonas|       AM|       13|          Manaus|         1302603|             1|   Centro Amazonense|                 3|             Manaus|                  7|                       1|                          1|FUNDACAO UNIVERSI...|             4|     4|UNIVERSIDADE FEDE...|  UFAM|  Av. Rodrigo Ot�vio|                  6200|       Campus Universit�rio|          Coroado II|  69077000|        1862|                            6|                             6|                          3|                          13|             120|              152|                317|                 282|                      409|                       263|                140|                 101|                  27|                   23|                     1|                     0|                   1|                           1|                 1|                  1|                       1|                 1|                  40191|               3683|        1981|      1824|           822|          1002|                 0|           111|          141|           436|          1136|         1730|            1349|                 381|            94|            0|            93|            200|            307|            317|            255|            228|            221|              203|             113|             16|            125|                6|                 4|            1560|         1821|            3|                        2|   2111801|        1036292|        Unidade Sede|\n",
       "|        2021|     Nordeste|            2|           Piau�|       PI|       22|        Teresina|         2211001|             1|Centro-Norte Piau...|                 2|           Teresina|                  3|                       1|                          1|FUNDACAO UNIVERSI...|         14054|     5|UNIVERSIDADE FEDE...|  UFPI|Campus Universit�...|                   s/n|                    SG - 07|              Ininga|  64049550|        1041|                            3|                            18|                          2|                          20|              26|               77|                 90|                 111|                      229|                       206|                120|                  83|                  26|                   30|                     1|                     0|                   0|                           1|                 0|                  1|                       1|                 1|                      0|                  0|        1577|      1470|           709|           761|                 0|             0|           76|           286|          1108|         1372|            1182|                 190|            98|            0|            27|            156|            280|            286|            197|            149|            149|              226|             110|             42|            204|                0|                 2|            1112|         1470|            0|                        0|   2111801|         102559|CAMPUS MINISTRO P...|\n",
       "|        2021|      Sudeste|            3|    Minas Gerais|       MG|       31|      Ouro Preto|         3146107|             0|Metropolitana de ...|                 7|         Ouro Preto|                 33|                       1|                          1|UNIVERSIDADE FEDE...|             6|     6|UNIVERSIDADE FEDE...|  UFOP|Rua Diogo de Vasc...|                   122|                          -|              Centro|  35400000|         715|                            4|                            23|                          3|                          14|              23|               56|                 42|                  84|                       93|                       121|                115|                  88|                  29|                   20|                     1|                     0|                   1|                           1|                 0|                  0|                       0|                 1|                      0|              28762|         928|       846|           332|           514|                 0|             2|           16|            82|           746|          839|             790|                  49|             7|            0|             3|             67|            194|            199|            117|             97|             93|               76|             402|             25|            146|                4|                 1|             268|          844|            2|                        3|   2111801|            664|            Reitoria|\n",
       "|        2021|      Sudeste|            3|       S�o Paulo|       SP|       35|      S�o Carlos|         3548906|             0|          Araraquara|                 5|         S�o Carlos|                 25|                       1|                          1|FUNDACAO UNIVERSI...|          1302|     7|UNIVERSIDADE FEDE...|UFSCAR|Via Washington  Luis|                Km 235|                       S/N�|          Monjolinho|  13565905|         968|                           17|                            22|                          9|                          12|               9|               48|                 79|                 106|                      164|                       152|                139|                 103|                  61|                   47|                     1|                     0|                   0|                           1|                 0|                  1|                       1|                 1|                  23596|              20419|        1339|      1339|           602|           737|                 0|             1|            3|            50|          1285|         1284|            1258|                  26|            55|            0|             3|             60|            199|            282|            212|            197|            172|              214|             767|             13|             69|               27|                 2|             461|         1310|           29|                        8|   2111801|        1006610|        Unidade SEDE|\n",
       "|        2021|      Sudeste|            3|    Minas Gerais|       MG|       31|          Vi�osa|         3171303|             0|        Zona da Mata|                12|             Vi�osa|                 62|                       1|                          1|UNIVERSIDADE FEDE...|         15588|     8|UNIVERSIDADE FEDE...|   UFV|      Av. P.H. Rolfs|                   s/n|       Campus Universit�rio|Campus Universit�rio|  36570000|        2001|                            7|                           111|                          1|                          29|              23|              307|                 73|                 160|                      319|                       492|                185|                 178|                  69|                   47|                     1|                     0|                   1|                           1|                 0|                  1|                       0|                 1|                      0|              79733|        1292|      1292|           518|           774|                 0|            17|           24|           128|          1123|         1251|            1159|                  92|            41|            0|            32|            130|            238|            285|            154|            122|            176|              155|             398|             24|             96|                4|                 0|             770|         1267|           25|                        0|   2111801|        1005394|Universidade Fede...|\n",
       "|        2021|          Sul|            4|          Paran�|       PR|       41|        Londrina|         4113700|             0|Norte Central Par...|                 3|           Londrina|                 11|                       1|                          2|SECRET DE EST CIE...|            37|     9|UNIVERSIDADE ESTA...|   UEL|Rodovia Celso Gar...|                     -|       UEL - CAMPUS UNIV...|Campus Universit�rio|  86057970|         756|                            0|                             5|                          1|                           5|              57|               68|                149|                 169|                      124|                        86|                 29|                  39|                   8|                   16|                     1|                     0|                   1|                           1|                 0|                  1|                       1|                 1|                      0|               2568|        1820|      1792|           932|           860|                 0|            17|           65|           359|          1351|         1325|             970|                 355|           462|            5|            48|            185|            266|            272|            244|            267|            262|              248|            1458|             24|            132|               87|                 2|              89|         1775|           17|                       55|   2111801|         657675|UEL - CAMPUS UNIV...|\n",
       "|        2021|          Sul|            4|          Paran�|       PR|       41|        Curitiba|         4106902|             1|Metropolitana de ...|                10|           Curitiba|                 37|                       1|                          5|ASSOCIACAO PARANA...|            10|    10|PONTIF�CIA UNIVER...| PUCPR|Rua Imaculada Con...|                  1155|                          -|         Prado Velho|  80215901|        1548|                            0|                             0|                         45|                          41|             276|              204|                410|                 194|                      157|                        99|                 30|                  28|                  30|                   34|                     1|                     0|                   1|                           1|                 0|                  1|                       1|                 1|                  55040|              25036|        1349|      1349|           575|           774|                 0|             1|           59|           582|           707|          448|               0|                 448|           655|          246|            31|            120|            191|            229|            229|            212|            151|              186|             680|             15|             40|               28|                 1|             585|         1343|            6|                       11|   2111801|         657676|PUCPR - Campus Cu...|\n",
       "+------------+-------------+-------------+----------------+---------+---------+----------------+----------------+--------------+--------------------+------------------+-------------------+-------------------+------------------------+---------------------------+--------------------+--------------+------+--------------------+------+--------------------+----------------------+---------------------------+--------------------+----------+------------+-----------------------------+------------------------------+---------------------------+----------------------------+----------------+-----------------+-------------------+--------------------+-------------------------+--------------------------+-------------------+--------------------+--------------------+---------------------+----------------------+----------------------+--------------------+----------------------------+------------------+-------------------+------------------------+------------------+-----------------------+-------------------+------------+----------+--------------+--------------+------------------+--------------+-------------+--------------+--------------+-------------+----------------+--------------------+--------------+-------------+--------------+---------------+---------------+---------------+---------------+---------------+---------------+-----------------+----------------+---------------+---------------+-----------------+------------------+----------------+-------------+-------------+-------------------------+----------+---------------+--------------------+\n",
       "only showing top 10 rows"
      ]
     },
     "execution_count": 11,
     "metadata": {},
     "output_type": "execute_result"
    }
   ],
   "source": [
    "df"
   ]
  },
  {
   "cell_type": "code",
   "execution_count": 12,
   "id": "acd32186-0ab4-41d5-8007-ee9c737b7d57",
   "metadata": {
    "tags": []
   },
   "outputs": [],
   "source": [
    "df.write.parquet(\"MICRODADOS_IES_CONSULTA.parquet\")"
   ]
  },
  {
   "cell_type": "code",
   "execution_count": 13,
   "id": "ec0d7648-06ef-4ce0-bf1b-26fb711da364",
   "metadata": {
    "tags": []
   },
   "outputs": [],
   "source": [
    "parquet_df = spark.read.parquet(\"MICRODADOS_IES_CONSULTA.parquet\")"
   ]
  },
  {
   "cell_type": "code",
   "execution_count": 14,
   "id": "2e378dad-5ac7-41b3-91cd-d731fd93a6ad",
   "metadata": {
    "tags": []
   },
   "outputs": [],
   "source": [
    "parquet_df.createOrReplaceTempView(\"parquet_df\")"
   ]
  },
  {
   "cell_type": "code",
   "execution_count": 18,
   "id": "411f06cd-20f7-462a-b05e-487866d963ce",
   "metadata": {
    "tags": []
   },
   "outputs": [
    {
     "name": "stdout",
     "output_type": "stream",
     "text": [
      "root\n",
      " |-- nu_ano_censo: integer (nullable = true)\n",
      " |-- no_regiao_ies: string (nullable = true)\n",
      " |-- co_regiao_ies: integer (nullable = true)\n",
      " |-- no_uf_ies: string (nullable = true)\n",
      " |-- sg_uf_ies: string (nullable = true)\n",
      " |-- co_uf_ies: integer (nullable = true)\n",
      " |-- no_municipio_ies: string (nullable = true)\n",
      " |-- co_municipio_ies: integer (nullable = true)\n",
      " |-- in_capital_ies: integer (nullable = true)\n",
      " |-- no_mesorregiao_ies: string (nullable = true)\n",
      " |-- co_mesorregiao_ies: integer (nullable = true)\n",
      " |-- no_microrregiao_ies: string (nullable = true)\n",
      " |-- co_microrregiao_ies: integer (nullable = true)\n",
      " |-- tp_organizacao_academica: integer (nullable = true)\n",
      " |-- tp_categoria_administrativa: integer (nullable = true)\n",
      " |-- no_mantenedora: string (nullable = true)\n",
      " |-- co_mantenedora: integer (nullable = true)\n",
      " |-- co_ies: integer (nullable = true)\n",
      " |-- no_ies: string (nullable = true)\n",
      " |-- sg_ies: string (nullable = true)\n",
      " |-- ds_endereco_ies: string (nullable = true)\n",
      " |-- ds_numero_endereco_ies: string (nullable = true)\n",
      " |-- ds_complemento_endereco_ies: string (nullable = true)\n",
      " |-- no_bairro_ies: string (nullable = true)\n",
      " |-- nu_cep_ies: integer (nullable = true)\n",
      " |-- qt_tec_total: integer (nullable = true)\n",
      " |-- qt_tec_fundamental_incomp_fem: integer (nullable = true)\n",
      " |-- qt_tec_fundamental_incomp_masc: integer (nullable = true)\n",
      " |-- qt_tec_fundamental_comp_fem: integer (nullable = true)\n",
      " |-- qt_tec_fundamental_comp_masc: integer (nullable = true)\n",
      " |-- qt_tec_medio_fem: integer (nullable = true)\n",
      " |-- qt_tec_medio_masc: integer (nullable = true)\n",
      " |-- qt_tec_superior_fem: integer (nullable = true)\n",
      " |-- qt_tec_superior_masc: integer (nullable = true)\n",
      " |-- qt_tec_especializacao_fem: integer (nullable = true)\n",
      " |-- qt_tec_especializacao_masc: integer (nullable = true)\n",
      " |-- qt_tec_mestrado_fem: integer (nullable = true)\n",
      " |-- qt_tec_mestrado_masc: integer (nullable = true)\n",
      " |-- qt_tec_doutorado_fem: integer (nullable = true)\n",
      " |-- qt_tec_doutorado_masc: integer (nullable = true)\n",
      " |-- in_acesso_portal_capes: integer (nullable = true)\n",
      " |-- in_acesso_outras_bases: integer (nullable = true)\n",
      " |-- in_assina_outra_base: integer (nullable = true)\n",
      " |-- in_repositorio_institucional: integer (nullable = true)\n",
      " |-- in_busca_integrada: integer (nullable = true)\n",
      " |-- in_servico_internet: integer (nullable = true)\n",
      " |-- in_participa_rede_social: integer (nullable = true)\n",
      " |-- in_catalogo_online: integer (nullable = true)\n",
      " |-- qt_periodico_eletronico: integer (nullable = true)\n",
      " |-- qt_livro_eletronico: integer (nullable = true)\n",
      " |-- qt_doc_total: integer (nullable = true)\n",
      " |-- qt_doc_exe: integer (nullable = true)\n",
      " |-- qt_doc_ex_femi: integer (nullable = true)\n",
      " |-- qt_doc_ex_masc: integer (nullable = true)\n",
      " |-- qt_doc_ex_sem_grad: integer (nullable = true)\n",
      " |-- qt_doc_ex_grad: integer (nullable = true)\n",
      " |-- qt_doc_ex_esp: integer (nullable = true)\n",
      " |-- qt_doc_ex_mest: integer (nullable = true)\n",
      " |-- qt_doc_ex_dout: integer (nullable = true)\n",
      " |-- qt_doc_ex_int: integer (nullable = true)\n",
      " |-- qt_doc_ex_int_de: integer (nullable = true)\n",
      " |-- qt_doc_ex_int_sem_de: integer (nullable = true)\n",
      " |-- qt_doc_ex_parc: integer (nullable = true)\n",
      " |-- qt_doc_ex_hor: integer (nullable = true)\n",
      " |-- qt_doc_ex_0_29: integer (nullable = true)\n",
      " |-- qt_doc_ex_30_34: integer (nullable = true)\n",
      " |-- qt_doc_ex_35_39: integer (nullable = true)\n",
      " |-- qt_doc_ex_40_44: integer (nullable = true)\n",
      " |-- qt_doc_ex_45_49: integer (nullable = true)\n",
      " |-- qt_doc_ex_50_54: integer (nullable = true)\n",
      " |-- qt_doc_ex_55_59: integer (nullable = true)\n",
      " |-- qt_doc_ex_60_mais: integer (nullable = true)\n",
      " |-- qt_doc_ex_branca: integer (nullable = true)\n",
      " |-- qt_doc_ex_preta: integer (nullable = true)\n",
      " |-- qt_doc_ex_parda: integer (nullable = true)\n",
      " |-- qt_doc_ex_amarela: integer (nullable = true)\n",
      " |-- qt_doc_ex_indigena: integer (nullable = true)\n",
      " |-- qt_doc_ex_cor_nd: integer (nullable = true)\n",
      " |-- qt_doc_ex_bra: integer (nullable = true)\n",
      " |-- qt_doc_ex_est: integer (nullable = true)\n",
      " |-- qt_doc_ex_com_deficiencia: integer (nullable = true)\n",
      " |-- co_projeto: integer (nullable = true)\n",
      " |-- co_local_oferta: integer (nullable = true)\n",
      " |-- no_local_oferta: string (nullable = true)\n",
      "\n"
     ]
    }
   ],
   "source": [
    "parquet_df.printSchema()"
   ]
  },
  {
   "cell_type": "markdown",
   "id": "b6b1cb7e-3954-40bb-b94f-cb239cd37eb7",
   "metadata": {},
   "source": [
    "### 1. Olhando para o estado de Minas Gerais, quantos municípios têm informações presentes na base de dados?"
   ]
  },
  {
   "cell_type": "code",
   "execution_count": 19,
   "id": "16d9edfb-be85-4ed5-9dbf-7377d5f4e12b",
   "metadata": {
    "tags": []
   },
   "outputs": [
    {
     "data": {
      "text/html": [
       "<table border='1'>\n",
       "<tr><th>Municipios_presente</th></tr>\n",
       "<tr><td>104</td></tr>\n",
       "</table>\n"
      ],
      "text/plain": [
       "+-------------------+\n",
       "|Municipios_presente|\n",
       "+-------------------+\n",
       "|                104|\n",
       "+-------------------+"
      ]
     },
     "execution_count": 19,
     "metadata": {},
     "output_type": "execute_result"
    }
   ],
   "source": [
    "spark.sql(\"SELECT COUNT(*) as Municipios_presente FROM (SELECT DISTINCT no_municipio_ies FROM parquet_df WHERE no_uf_ies = 'Minas Gerais') \")"
   ]
  },
  {
   "cell_type": "markdown",
   "id": "e8c71b56-26c9-407c-b411-4e0a94267973",
   "metadata": {},
   "source": [
    "### 2. Quantos professores doutores existem em cada cidade de Minas Gerais presente na base de dados?"
   ]
  },
  {
   "cell_type": "code",
   "execution_count": 30,
   "id": "8eed9c9b-2b6a-442e-b88b-84321f1277a6",
   "metadata": {
    "tags": []
   },
   "outputs": [
    {
     "data": {
      "text/html": [
       "<table border='1'>\n",
       "<tr><th>Municipio</th><th>Qtd_Doutores</th></tr>\n",
       "<tr><td>Belo Horizonte</td><td>6615</td></tr>\n",
       "<tr><td>Uberl�ndia</td><td>1939</td></tr>\n",
       "<tr><td>Juiz de Fora</td><td>1915</td></tr>\n",
       "<tr><td>Vi�osa</td><td>1185</td></tr>\n",
       "<tr><td>Montes Claros</td><td>925</td></tr>\n",
       "<tr><td>Uberaba</td><td>891</td></tr>\n",
       "<tr><td>Lavras</td><td>812</td></tr>\n",
       "<tr><td>S�o Jo�o del Rei</td><td>753</td></tr>\n",
       "<tr><td>Ouro Preto</td><td>746</td></tr>\n",
       "<tr><td>Diamantina</td><td>673</td></tr>\n",
       "</table>\n",
       "only showing top 10 rows\n"
      ],
      "text/plain": [
       "+----------------+------------+\n",
       "|       Municipio|Qtd_Doutores|\n",
       "+----------------+------------+\n",
       "|  Belo Horizonte|        6615|\n",
       "|      Uberl�ndia|        1939|\n",
       "|    Juiz de Fora|        1915|\n",
       "|          Vi�osa|        1185|\n",
       "|   Montes Claros|         925|\n",
       "|         Uberaba|         891|\n",
       "|          Lavras|         812|\n",
       "|S�o Jo�o del Rei|         753|\n",
       "|      Ouro Preto|         746|\n",
       "|      Diamantina|         673|\n",
       "+----------------+------------+\n",
       "only showing top 10 rows"
      ]
     },
     "execution_count": 30,
     "metadata": {},
     "output_type": "execute_result"
    }
   ],
   "source": [
    "spark.sql(\"\"\"SELECT no_municipio_ies as Municipio, sum(qt_doc_ex_dout) as Qtd_Doutores from parquet_df WHERE sg_uf_ies = 'MG' \n",
    "          group by no_municipio_ies order by Qtd_Doutores DESC\"\"\")"
   ]
  },
  {
   "cell_type": "markdown",
   "id": "e3c2f008-3b65-4fd6-8509-42635a9a3a43",
   "metadata": {
    "tags": []
   },
   "source": [
    "### 3. Qual a quantidade de docentes com deficiência no estado do Paraná?"
   ]
  },
  {
   "cell_type": "code",
   "execution_count": 29,
   "id": "84e1c4c2-7563-4918-b5cd-457ca2402a60",
   "metadata": {
    "tags": []
   },
   "outputs": [
    {
     "data": {
      "text/html": [
       "<table border='1'>\n",
       "<tr><th>Qtd_docentes_deficientes</th></tr>\n",
       "<tr><td>160</td></tr>\n",
       "</table>\n"
      ],
      "text/plain": [
       "+------------------------+\n",
       "|Qtd_docentes_deficientes|\n",
       "+------------------------+\n",
       "|                     160|\n",
       "+------------------------+"
      ]
     },
     "execution_count": 29,
     "metadata": {},
     "output_type": "execute_result"
    }
   ],
   "source": [
    "spark.sql(\"SELECT SUM(qt_doc_ex_com_deficiencia) as Qtd_docentes_deficientes from parquet_df WHERE sg_uf_ies= 'PR' \")"
   ]
  }
 ],
 "metadata": {
  "kernelspec": {
   "display_name": "Python 3 (ipykernel)",
   "language": "python",
   "name": "python3"
  },
  "language_info": {
   "codemirror_mode": {
    "name": "ipython",
    "version": 3
   },
   "file_extension": ".py",
   "mimetype": "text/x-python",
   "name": "python",
   "nbconvert_exporter": "python",
   "pygments_lexer": "ipython3",
   "version": "3.10.10"
  }
 },
 "nbformat": 4,
 "nbformat_minor": 5
}
